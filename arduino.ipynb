{
 "cells": [
  {
   "cell_type": "code",
   "execution_count": 27,
   "id": "90128db8",
   "metadata": {},
   "outputs": [
    {
     "name": "stdout",
     "output_type": "stream",
     "text": [
      "Listening for voice command...\n",
      "Command recorded.\n",
      "1/1 [==============================] - 0s 78ms/step\n",
      "on\n"
     ]
    }
   ],
   "source": [
    "\n",
    "import sounddevice as sd\n",
    "import numpy as np\n",
    "import librosa\n",
    "from tensorflow.keras.models import load_model\n",
    "import serial\n",
    "\n",
    "# Open a serial connection to the Arduino board\n",
    "ser = serial.Serial('COM3', 9600)\n",
    "\n",
    "# Load the trained model\n",
    "model = load_model(\"my_model.h5\")\n",
    "\n",
    "# Define the classes and corresponding labels\n",
    "classes = {\"on\": 0, \"off\": 1}\n",
    "\n",
    "# Define the parameters for feature extraction\n",
    "sampling_rate = 16000\n",
    "duration = 1\n",
    "n_mfcc = 20\n",
    "n_frames = 100\n",
    "\n",
    "# Define a function to extract features from an audio signal\n",
    "def extract_features(signal):\n",
    "    mfccs = librosa.feature.mfcc(y=signal, sr=sampling_rate, n_mfcc=n_mfcc)\n",
    "    if mfccs.shape[1] < n_frames:\n",
    "        mfccs = np.pad(mfccs, ((0, 0), (0, n_frames - mfccs.shape[1])), mode='constant')\n",
    "    else:\n",
    "        mfccs = mfccs[:, :n_frames]\n",
    "    return mfccs.T\n",
    "\n",
    "# Define a function to record audio from the user's microphone and make a prediction\n",
    "\n",
    "def predict_from_microphone():\n",
    "    # Start recording audio from microphone\n",
    "    while True:\n",
    "        print(\"Listening for voice command...\")\n",
    "        audio = sd.rec(int(duration * sampling_rate), samplerate=sampling_rate, channels=1)\n",
    "        sd.wait()  # Wait for recording to finish\n",
    "        print(\"Command recorded.\")\n",
    "\n",
    "        # Extract features from recorded audio\n",
    "        features = extract_features(audio[:, 0])\n",
    "\n",
    "        # Reshape the features to match the input shape of the model\n",
    "        features = np.reshape(features, (1, -1))\n",
    "\n",
    "        # Make the prediction\n",
    "        prediction = model.predict(features)\n",
    "\n",
    "        # Get the predicted label\n",
    "        predicted_label = list(classes.keys())[list(classes.values()).index(np.argmax(prediction))]\n",
    "\n",
    "        # Check if the predicted label is the exit command\n",
    "        if predicted_label == \"exit\":\n",
    "            break\n",
    "\n",
    "        # Send the predicted label as a command to the Arduino board\n",
    "        if predicted_label == \"on\":\n",
    "            ser.write(b'1')  # Send '1' to turn on the LED\n",
    "        elif predicted_label == \"off\":\n",
    "            ser.write(b'0')  # Send '0' to turn off the LED\n",
    "\n",
    "        # Print the predicted label\n",
    "        return (predicted_label)\n",
    "\n",
    "    # Close the serial connection\n",
    "        ser.close()\n",
    "predicted_label = predict_from_microphone()\n",
    "ser.close()\n",
    "print(predicted_label)\n"
   ]
  },
  {
   "cell_type": "code",
   "execution_count": null,
   "id": "91156e74",
   "metadata": {},
   "outputs": [],
   "source": []
  },
  {
   "cell_type": "code",
   "execution_count": null,
   "id": "39652a1e",
   "metadata": {},
   "outputs": [],
   "source": []
  }
 ],
 "metadata": {
  "kernelspec": {
   "display_name": "Python 3 (ipykernel)",
   "language": "python",
   "name": "python3"
  },
  "language_info": {
   "codemirror_mode": {
    "name": "ipython",
    "version": 3
   },
   "file_extension": ".py",
   "mimetype": "text/x-python",
   "name": "python",
   "nbconvert_exporter": "python",
   "pygments_lexer": "ipython3",
   "version": "3.9.13"
  }
 },
 "nbformat": 4,
 "nbformat_minor": 5
}
